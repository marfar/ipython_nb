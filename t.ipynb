{
 "metadata": {
  "name": "Untitled1"
 },
 "nbformat": 3,
 "nbformat_minor": 0,
 "worksheets": [
  {
   "cells": [
    {
     "cell_type": "markdown",
     "metadata": {},
     "source": "$\\Delta T_{peak} = \\frac{(1-\\exp(-\\alpha d)) \\cdot I \\cdot \\tau}{c\\cdot d\\cdot \\rho}$"
    },
    {
     "cell_type": "code",
     "collapsed": false,
     "input": "from scipy import *\nfrom IPython.display import display, Math, Latex\nD_t=1.8*10**-3 #cm2/s-1\nd=50*10**-4    #cm\nI=600*10**6    #W/cm2\nc=2            #J/g/K\ntau=30*10**-12 #s\nrho=10         #g/cm3\ndTpeak = (1-exp(-44*d))*I*tau/c/d/rho\nLatex(\"$\\Delta T_{peak} = %.2e~[K]$\"%(dTpeak))",
     "language": "python",
     "metadata": {},
     "outputs": [
      {
       "latex": "$\\Delta T_{peak} = 3.55e-02~[K]$",
       "metadata": {},
       "output_type": "pyout",
       "prompt_number": 1,
       "text": "<IPython.core.display.Latex at 0x7f56163a8470>"
      }
     ],
     "prompt_number": 1
    },
    {
     "cell_type": "markdown",
     "metadata": {},
     "source": "$\\tau_{_T} = \\frac{d^2}{4\\pi^2 D_T}$"
    },
    {
     "cell_type": "code",
     "collapsed": false,
     "input": "tau_T = d**2/4/pi**2/D_t\nLatex(r\"$\\tau_{_T} = %.2e~[s]$\"%(tau_T))",
     "language": "python",
     "metadata": {},
     "outputs": [
      {
       "latex": "$\\tau_{_T} = 3.52e-04~[s]$",
       "metadata": {},
       "output_type": "pyout",
       "prompt_number": 2,
       "text": "<IPython.core.display.Latex at 0x7f5616391d68>"
      }
     ],
     "prompt_number": 2
    },
    {
     "cell_type": "code",
     "collapsed": false,
     "input": "",
     "language": "python",
     "metadata": {},
     "outputs": [],
     "prompt_number": 2
    },
    {
     "cell_type": "code",
     "collapsed": false,
     "input": "",
     "language": "python",
     "metadata": {},
     "outputs": [],
     "prompt_number": 2
    },
    {
     "cell_type": "code",
     "collapsed": false,
     "input": "",
     "language": "python",
     "metadata": {},
     "outputs": [],
     "prompt_number": 2
    },
    {
     "cell_type": "code",
     "collapsed": false,
     "input": "",
     "language": "python",
     "metadata": {},
     "outputs": [],
     "prompt_number": 2
    }
   ],
   "metadata": {}
  }
 ]
}
